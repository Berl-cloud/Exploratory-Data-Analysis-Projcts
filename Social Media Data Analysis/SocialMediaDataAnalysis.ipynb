{
 "cells": [
  {
   "cell_type": "markdown",
   "metadata": {},
   "source": [
    "# Clean & Analyze Social Media Data"
   ]
  },
  {
   "cell_type": "markdown",
   "metadata": {},
   "source": [
    "## Introduction\n",
    "\n",
    "Social media has become a ubiquitous part of modern life, with platforms such as Instagram, Twitter, and Facebook serving as essential communication channels. Social media data sets are vast and complex, making analysis a challenging task for businesses and researchers alike. In this project, we explore a simulated social media, for example Tweets, data set to understand trends in likes across different categories.\n",
    "\n",
    "## Prerequisites\n",
    "\n",
    "To follow along with this project, you should have a basic understanding of Python programming and data analysis concepts. In addition, you may want to use the following packages in your Python environment:\n",
    "\n",
    "- pandas\n",
    "- Matplotlib\n",
    "- ...\n",
    "\n",
    "These packages should already be installed in Coursera's Jupyter Notebook environment, however if you'd like to install additional packages that are not included in this environment or are working off platform you can install additional packages using `!pip install packagename` within a notebook cell such as:\n",
    "\n",
    "- `!pip install pandas`\n",
    "- `!pip install matplotlib`\n",
    "\n",
    "## Project Scope\n",
    "\n",
    "The objective of this project is to analyze tweets (or other social media data) and gain insights into user engagement. We will explore the data set using visualization techniques to understand the distribution of likes across different categories. Finally, we will analyze the data to draw conclusions about the most popular categories and the overall engagement on the platform.\n",
    "\n",
    "## Step 1: Importing Required Libraries\n",
    "\n",
    "As the name suggests, the first step is to import all the necessary libraries that will be used in the project. In this case, we need pandas, numpy, matplotlib, seaborn, and random libraries.\n",
    "\n",
    "Pandas is a library used for data manipulation and analysis. Numpy is a library used for numerical computations. Matplotlib is a library used for data visualization. Seaborn is a library used for statistical data visualization. Random is a library used to generate random numbers."
   ]
  },
  {
   "cell_type": "code",
   "execution_count": 1,
   "metadata": {},
   "outputs": [],
   "source": [
    "#Import required libaries \n",
    "\n",
    "import pandas as pd\n",
    "import numpy as np\n",
    "import random\n",
    "import matplotlib.pyplot as plt\n",
    "import seaborn as sns"
   ]
  },
  {
   "cell_type": "code",
   "execution_count": 2,
   "metadata": {},
   "outputs": [],
   "source": [
    "# Generate random data as the social media data\n",
    "\n",
    "categories = ['Food', 'Travel', 'Fashion', 'Fitness', 'Music', 'Culture', 'Family', 'Health']"
   ]
  },
  {
   "cell_type": "code",
   "execution_count": 3,
   "metadata": {},
   "outputs": [],
   "source": [
    "np.random.seed(456) # enables  us to generate same random numbers at each run"
   ]
  },
  {
   "cell_type": "code",
   "execution_count": 4,
   "metadata": {},
   "outputs": [],
   "source": [
    "data = {'id': random.sample(range(101,1111), 500), 'Date': pd.date_range('2021-01-01', periods=500), 'Category': [np.random.choice(categories) for i in range(500)], 'Likes': np.random.randint(0, 10000, size=500)}"
   ]
  },
  {
   "cell_type": "markdown",
   "metadata": {},
   "source": [
    " "
   ]
  },
  {
   "cell_type": "code",
   "execution_count": 5,
   "metadata": {},
   "outputs": [],
   "source": [
    "# Load the data into a Pandas DataFrame\n",
    "\n",
    "df = pd.DataFrame(data)"
   ]
  },
  {
   "cell_type": "markdown",
   "metadata": {},
   "source": [
    " "
   ]
  },
  {
   "cell_type": "markdown",
   "metadata": {},
   "source": [
    "## Step 2: Data Exploration and Cleaning\n",
    "\n",
    "In this step, we will familiarise ourselves with the data. We will have an overview of the data by printing the first few rows to see how the data looks like. \n",
    " \n",
    "We will also check some informations about the data such as the various columns, their data type as well as the number of missing values. \n",
    "\n",
    "We wil then view a summary of the statistics of the data such as the number of observations. \n",
    " \n",
    "Lastly, we will print the number of observations for each category of the social media engagements."
   ]
  },
  {
   "cell_type": "markdown",
   "metadata": {},
   "source": [
    " "
   ]
  },
  {
   "cell_type": "code",
   "execution_count": 6,
   "metadata": {},
   "outputs": [
    {
     "data": {
      "text/html": [
       "<div>\n",
       "<style scoped>\n",
       "    .dataframe tbody tr th:only-of-type {\n",
       "        vertical-align: middle;\n",
       "    }\n",
       "\n",
       "    .dataframe tbody tr th {\n",
       "        vertical-align: top;\n",
       "    }\n",
       "\n",
       "    .dataframe thead th {\n",
       "        text-align: right;\n",
       "    }\n",
       "</style>\n",
       "<table border=\"1\" class=\"dataframe\">\n",
       "  <thead>\n",
       "    <tr style=\"text-align: right;\">\n",
       "      <th></th>\n",
       "      <th>id</th>\n",
       "      <th>Date</th>\n",
       "      <th>Category</th>\n",
       "      <th>Likes</th>\n",
       "    </tr>\n",
       "  </thead>\n",
       "  <tbody>\n",
       "    <tr>\n",
       "      <th>0</th>\n",
       "      <td>813</td>\n",
       "      <td>2021-01-01</td>\n",
       "      <td>Fitness</td>\n",
       "      <td>6518</td>\n",
       "    </tr>\n",
       "    <tr>\n",
       "      <th>1</th>\n",
       "      <td>259</td>\n",
       "      <td>2021-01-02</td>\n",
       "      <td>Culture</td>\n",
       "      <td>2046</td>\n",
       "    </tr>\n",
       "    <tr>\n",
       "      <th>2</th>\n",
       "      <td>981</td>\n",
       "      <td>2021-01-03</td>\n",
       "      <td>Fitness</td>\n",
       "      <td>8017</td>\n",
       "    </tr>\n",
       "    <tr>\n",
       "      <th>3</th>\n",
       "      <td>329</td>\n",
       "      <td>2021-01-04</td>\n",
       "      <td>Travel</td>\n",
       "      <td>383</td>\n",
       "    </tr>\n",
       "    <tr>\n",
       "      <th>4</th>\n",
       "      <td>256</td>\n",
       "      <td>2021-01-05</td>\n",
       "      <td>Fashion</td>\n",
       "      <td>3014</td>\n",
       "    </tr>\n",
       "  </tbody>\n",
       "</table>\n",
       "</div>"
      ],
      "text/plain": [
       "    id       Date Category  Likes\n",
       "0  813 2021-01-01  Fitness   6518\n",
       "1  259 2021-01-02  Culture   2046\n",
       "2  981 2021-01-03  Fitness   8017\n",
       "3  329 2021-01-04   Travel    383\n",
       "4  256 2021-01-05  Fashion   3014"
      ]
     },
     "execution_count": 6,
     "metadata": {},
     "output_type": "execute_result"
    }
   ],
   "source": [
    "# A glimpse at the data \n",
    "\n",
    "df.head()"
   ]
  },
  {
   "cell_type": "markdown",
   "metadata": {},
   "source": [
    " "
   ]
  },
  {
   "cell_type": "code",
   "execution_count": 7,
   "metadata": {},
   "outputs": [
    {
     "data": {
      "text/plain": [
       "500"
      ]
     },
     "execution_count": 7,
     "metadata": {},
     "output_type": "execute_result"
    }
   ],
   "source": [
    "df['id'].count()"
   ]
  },
  {
   "cell_type": "code",
   "execution_count": 8,
   "metadata": {},
   "outputs": [
    {
     "name": "stdout",
     "output_type": "stream",
     "text": [
      "<class 'pandas.core.frame.DataFrame'>\n",
      "RangeIndex: 500 entries, 0 to 499\n",
      "Data columns (total 4 columns):\n",
      " #   Column    Non-Null Count  Dtype         \n",
      "---  ------    --------------  -----         \n",
      " 0   id        500 non-null    int64         \n",
      " 1   Date      500 non-null    datetime64[ns]\n",
      " 2   Category  500 non-null    object        \n",
      " 3   Likes     500 non-null    int64         \n",
      "dtypes: datetime64[ns](1), int64(2), object(1)\n",
      "memory usage: 15.8+ KB\n"
     ]
    }
   ],
   "source": [
    "# View data information\n",
    "\n",
    "df.info()"
   ]
  },
  {
   "cell_type": "markdown",
   "metadata": {},
   "source": [
    " "
   ]
  },
  {
   "cell_type": "code",
   "execution_count": 9,
   "metadata": {},
   "outputs": [
    {
     "data": {
      "text/html": [
       "<div>\n",
       "<style scoped>\n",
       "    .dataframe tbody tr th:only-of-type {\n",
       "        vertical-align: middle;\n",
       "    }\n",
       "\n",
       "    .dataframe tbody tr th {\n",
       "        vertical-align: top;\n",
       "    }\n",
       "\n",
       "    .dataframe thead th {\n",
       "        text-align: right;\n",
       "    }\n",
       "</style>\n",
       "<table border=\"1\" class=\"dataframe\">\n",
       "  <thead>\n",
       "    <tr style=\"text-align: right;\">\n",
       "      <th></th>\n",
       "      <th>id</th>\n",
       "      <th>Likes</th>\n",
       "    </tr>\n",
       "  </thead>\n",
       "  <tbody>\n",
       "    <tr>\n",
       "      <th>count</th>\n",
       "      <td>500.000000</td>\n",
       "      <td>500.000000</td>\n",
       "    </tr>\n",
       "    <tr>\n",
       "      <th>mean</th>\n",
       "      <td>605.990000</td>\n",
       "      <td>5089.812000</td>\n",
       "    </tr>\n",
       "    <tr>\n",
       "      <th>std</th>\n",
       "      <td>290.447561</td>\n",
       "      <td>2868.531636</td>\n",
       "    </tr>\n",
       "    <tr>\n",
       "      <th>min</th>\n",
       "      <td>101.000000</td>\n",
       "      <td>21.000000</td>\n",
       "    </tr>\n",
       "    <tr>\n",
       "      <th>25%</th>\n",
       "      <td>360.750000</td>\n",
       "      <td>2558.750000</td>\n",
       "    </tr>\n",
       "    <tr>\n",
       "      <th>50%</th>\n",
       "      <td>612.500000</td>\n",
       "      <td>5137.500000</td>\n",
       "    </tr>\n",
       "    <tr>\n",
       "      <th>75%</th>\n",
       "      <td>852.250000</td>\n",
       "      <td>7540.750000</td>\n",
       "    </tr>\n",
       "    <tr>\n",
       "      <th>max</th>\n",
       "      <td>1110.000000</td>\n",
       "      <td>9997.000000</td>\n",
       "    </tr>\n",
       "  </tbody>\n",
       "</table>\n",
       "</div>"
      ],
      "text/plain": [
       "                id        Likes\n",
       "count   500.000000   500.000000\n",
       "mean    605.990000  5089.812000\n",
       "std     290.447561  2868.531636\n",
       "min     101.000000    21.000000\n",
       "25%     360.750000  2558.750000\n",
       "50%     612.500000  5137.500000\n",
       "75%     852.250000  7540.750000\n",
       "max    1110.000000  9997.000000"
      ]
     },
     "execution_count": 9,
     "metadata": {},
     "output_type": "execute_result"
    }
   ],
   "source": [
    "# View summary statistics of the data\n",
    "\n",
    "df.describe()"
   ]
  },
  {
   "cell_type": "markdown",
   "metadata": {},
   "source": [
    " "
   ]
  },
  {
   "cell_type": "markdown",
   "metadata": {},
   "source": [
    " "
   ]
  },
  {
   "cell_type": "markdown",
   "metadata": {},
   "source": [
    " "
   ]
  },
  {
   "cell_type": "markdown",
   "metadata": {},
   "source": [
    " "
   ]
  },
  {
   "cell_type": "markdown",
   "metadata": {},
   "source": [
    "### Data Quality Assessment\n",
    "\n",
    "Here, we will assess th quality of the data to know if it is ready for the analyses. We will do this by inspecting for missing values, duplicated values, wrong data types, outliers and so on.\n",
    "\n",
    "This task will enable us to determine how to clean the data and what sort of cleaning is needed."
   ]
  },
  {
   "cell_type": "markdown",
   "metadata": {},
   "source": [
    " "
   ]
  },
  {
   "cell_type": "code",
   "execution_count": 10,
   "metadata": {},
   "outputs": [
    {
     "data": {
      "text/plain": [
       "id          0\n",
       "Date        0\n",
       "Category    0\n",
       "Likes       0\n",
       "dtype: int64"
      ]
     },
     "execution_count": 10,
     "metadata": {},
     "output_type": "execute_result"
    }
   ],
   "source": [
    "# checking for missing values\n",
    "\n",
    "df.isna().sum()"
   ]
  },
  {
   "cell_type": "markdown",
   "metadata": {},
   "source": [
    " "
   ]
  },
  {
   "cell_type": "code",
   "execution_count": 11,
   "metadata": {},
   "outputs": [
    {
     "data": {
      "text/plain": [
       "0"
      ]
     },
     "execution_count": 11,
     "metadata": {},
     "output_type": "execute_result"
    }
   ],
   "source": [
    "# checking for duplicatd values\n",
    "\n",
    "df.duplicated().sum()"
   ]
  },
  {
   "cell_type": "markdown",
   "metadata": {},
   "source": [
    " "
   ]
  },
  {
   "cell_type": "code",
   "execution_count": 12,
   "metadata": {},
   "outputs": [
    {
     "data": {
      "text/plain": [
       "id                   int64\n",
       "Date        datetime64[ns]\n",
       "Category            object\n",
       "Likes                int64\n",
       "dtype: object"
      ]
     },
     "execution_count": 12,
     "metadata": {},
     "output_type": "execute_result"
    }
   ],
   "source": [
    "df.dtypes"
   ]
  },
  {
   "cell_type": "markdown",
   "metadata": {},
   "source": [
    " "
   ]
  },
  {
   "cell_type": "markdown",
   "metadata": {},
   "source": [
    " "
   ]
  },
  {
   "cell_type": "markdown",
   "metadata": {},
   "source": [
    "### Data Quality Assessment Report\n",
    "\n",
    "This is the report of the above data quality assessment. The outcomes are outlined below:\n",
    "\n",
    "1. It is clear that, there are no missing values in the data. All the data fields are filled with their corresponding values.\n",
    "2. The data has no duplicate values. All observations are unique.\n",
    "3. All the data columns have the right corresponding data types. There is no mismatch."
   ]
  },
  {
   "cell_type": "markdown",
   "metadata": {},
   "source": [
    " "
   ]
  },
  {
   "cell_type": "markdown",
   "metadata": {},
   "source": [
    "**Based on the data quality assessment report above, there is no room for data cleaning. Hence, we will move on to analyse and visualise our data.** "
   ]
  },
  {
   "cell_type": "markdown",
   "metadata": {},
   "source": [
    "## Step 3: Data Analysis and Visualisation"
   ]
  },
  {
   "cell_type": "markdown",
   "metadata": {},
   "source": [
    "Here, we are going to perform statistical analysis the data to answer a few questions and also create visualisations to get a pictorial undrstanding of the data.\n",
    "\n",
    "Questions to be answered include:\n",
    "\n",
    "1. What are the top 5 most popular categories of reach.\n",
    "\n",
    "2. Which category of post had the highest impression.\n",
    "\n",
    "3. What is the total number of impressions. \n",
    " \n",
    "4. Which month and year had the most engagements.\n",
    "\n",
    "5. What is the total number of engagements. \n",
    "\n",
    "6. Which category of the social media posts had the highest engagement in 2021 and 2022. "
   ]
  },
  {
   "cell_type": "markdown",
   "metadata": {},
   "source": [
    "**For the purpose of our analysis, we will first of all split the `Date` column into `Day`, `Month`, and `Year` and drop the `Date` column and move on with our analysis thereafter**"
   ]
  },
  {
   "cell_type": "markdown",
   "metadata": {},
   "source": [
    " "
   ]
  },
  {
   "cell_type": "code",
   "execution_count": 13,
   "metadata": {},
   "outputs": [],
   "source": [
    "# Adding Year column to the dataframe\n",
    "\n",
    "df['Year'] = df['Date'].dt.year"
   ]
  },
  {
   "cell_type": "code",
   "execution_count": 14,
   "metadata": {},
   "outputs": [],
   "source": [
    "# Adding Month column to the dataframe\n",
    "\n",
    "df['Month'] = df['Date'].dt.month"
   ]
  },
  {
   "cell_type": "code",
   "execution_count": 15,
   "metadata": {},
   "outputs": [],
   "source": [
    "# Convert month number to month name\n",
    "\n",
    "df['Month'] = pd.to_datetime(\n",
    "    df['Month'], format='%m').dt.month_name()"
   ]
  },
  {
   "cell_type": "code",
   "execution_count": 16,
   "metadata": {},
   "outputs": [],
   "source": [
    "# Adding Day column to the dataframe\n",
    "\n",
    "df['Day'] = df['Date'].dt.day"
   ]
  },
  {
   "cell_type": "code",
   "execution_count": 17,
   "metadata": {},
   "outputs": [],
   "source": [
    "df = df.drop(columns='Date')"
   ]
  },
  {
   "cell_type": "code",
   "execution_count": 18,
   "metadata": {},
   "outputs": [
    {
     "data": {
      "text/html": [
       "<div>\n",
       "<style scoped>\n",
       "    .dataframe tbody tr th:only-of-type {\n",
       "        vertical-align: middle;\n",
       "    }\n",
       "\n",
       "    .dataframe tbody tr th {\n",
       "        vertical-align: top;\n",
       "    }\n",
       "\n",
       "    .dataframe thead th {\n",
       "        text-align: right;\n",
       "    }\n",
       "</style>\n",
       "<table border=\"1\" class=\"dataframe\">\n",
       "  <thead>\n",
       "    <tr style=\"text-align: right;\">\n",
       "      <th></th>\n",
       "      <th>id</th>\n",
       "      <th>Category</th>\n",
       "      <th>Likes</th>\n",
       "      <th>Year</th>\n",
       "      <th>Month</th>\n",
       "      <th>Day</th>\n",
       "    </tr>\n",
       "  </thead>\n",
       "  <tbody>\n",
       "    <tr>\n",
       "      <th>0</th>\n",
       "      <td>813</td>\n",
       "      <td>Fitness</td>\n",
       "      <td>6518</td>\n",
       "      <td>2021</td>\n",
       "      <td>January</td>\n",
       "      <td>1</td>\n",
       "    </tr>\n",
       "    <tr>\n",
       "      <th>1</th>\n",
       "      <td>259</td>\n",
       "      <td>Culture</td>\n",
       "      <td>2046</td>\n",
       "      <td>2021</td>\n",
       "      <td>January</td>\n",
       "      <td>2</td>\n",
       "    </tr>\n",
       "    <tr>\n",
       "      <th>2</th>\n",
       "      <td>981</td>\n",
       "      <td>Fitness</td>\n",
       "      <td>8017</td>\n",
       "      <td>2021</td>\n",
       "      <td>January</td>\n",
       "      <td>3</td>\n",
       "    </tr>\n",
       "    <tr>\n",
       "      <th>3</th>\n",
       "      <td>329</td>\n",
       "      <td>Travel</td>\n",
       "      <td>383</td>\n",
       "      <td>2021</td>\n",
       "      <td>January</td>\n",
       "      <td>4</td>\n",
       "    </tr>\n",
       "    <tr>\n",
       "      <th>4</th>\n",
       "      <td>256</td>\n",
       "      <td>Fashion</td>\n",
       "      <td>3014</td>\n",
       "      <td>2021</td>\n",
       "      <td>January</td>\n",
       "      <td>5</td>\n",
       "    </tr>\n",
       "  </tbody>\n",
       "</table>\n",
       "</div>"
      ],
      "text/plain": [
       "    id Category  Likes  Year    Month  Day\n",
       "0  813  Fitness   6518  2021  January    1\n",
       "1  259  Culture   2046  2021  January    2\n",
       "2  981  Fitness   8017  2021  January    3\n",
       "3  329   Travel    383  2021  January    4\n",
       "4  256  Fashion   3014  2021  January    5"
      ]
     },
     "execution_count": 18,
     "metadata": {},
     "output_type": "execute_result"
    }
   ],
   "source": [
    "# A glimpse at the data\n",
    "\n",
    "df.head()"
   ]
  },
  {
   "cell_type": "markdown",
   "metadata": {},
   "source": [
    " "
   ]
  },
  {
   "cell_type": "markdown",
   "metadata": {},
   "source": [
    " "
   ]
  },
  {
   "cell_type": "markdown",
   "metadata": {},
   "source": [
    " "
   ]
  },
  {
   "cell_type": "markdown",
   "metadata": {},
   "source": [
    "### Statistical Analysis"
   ]
  },
  {
   "cell_type": "markdown",
   "metadata": {},
   "source": [
    "#### 1. Overall Number of Reach by Category"
   ]
  },
  {
   "cell_type": "code",
   "execution_count": 19,
   "metadata": {},
   "outputs": [],
   "source": [
    "# Printing total observations per category\n",
    "\n",
    "cat_count = df['Category'].value_counts()"
   ]
  },
  {
   "cell_type": "code",
   "execution_count": 20,
   "metadata": {},
   "outputs": [
    {
     "name": "stdout",
     "output_type": "stream",
     "text": [
      "Culture    78\n",
      "Family     71\n",
      "Health     67\n",
      "Fashion    66\n",
      "Music      59\n",
      "Fitness    57\n",
      "Travel     56\n",
      "Food       46\n",
      "Name: Category, dtype: int64\n"
     ]
    }
   ],
   "source": [
    "print(cat_count)"
   ]
  },
  {
   "cell_type": "markdown",
   "metadata": {},
   "source": [
    "**The above results clearly shows that `Culture` has the highest number of occurrence followed by `Family`, `Health`, `Fashion` and `Music`.**"
   ]
  },
  {
   "cell_type": "markdown",
   "metadata": {},
   "source": [
    " "
   ]
  },
  {
   "cell_type": "markdown",
   "metadata": {},
   "source": [
    "#### 2. Overall Number of Impressions by Category"
   ]
  },
  {
   "cell_type": "code",
   "execution_count": 21,
   "metadata": {},
   "outputs": [],
   "source": [
    "# Total number of engagements by categories\n",
    "\n",
    "cat_likes = df.groupby('Category')['Likes'].sum().sort_values(ascending=False)"
   ]
  },
  {
   "cell_type": "code",
   "execution_count": 22,
   "metadata": {},
   "outputs": [
    {
     "name": "stdout",
     "output_type": "stream",
     "text": [
      "Category\n",
      "Family     410024\n",
      "Culture    406486\n",
      "Health     322948\n",
      "Fashion    306140\n",
      "Music      290646\n",
      "Fitness    281499\n",
      "Travel     274305\n",
      "Food       252858\n",
      "Name: Likes, dtype: int64\n"
     ]
    }
   ],
   "source": [
    "print(cat_likes)"
   ]
  },
  {
   "cell_type": "markdown",
   "metadata": {},
   "source": [
    "**The above results clearly shows that `Family` has the highest number of likes followed by `Culture`, `Health`, `Fashion` and `Music`.**"
   ]
  },
  {
   "cell_type": "markdown",
   "metadata": {},
   "source": [
    " "
   ]
  },
  {
   "cell_type": "markdown",
   "metadata": {},
   "source": [
    "#### 3. Total Number of Impressions"
   ]
  },
  {
   "cell_type": "code",
   "execution_count": 23,
   "metadata": {},
   "outputs": [
    {
     "name": "stdout",
     "output_type": "stream",
     "text": [
      "2544906\n"
     ]
    }
   ],
   "source": [
    "overall_likes = df['Likes'].sum()\n",
    "print(overall_likes)"
   ]
  },
  {
   "cell_type": "markdown",
   "metadata": {},
   "source": [
    "**The total number of likes across all categories is `2544906`.**"
   ]
  },
  {
   "cell_type": "markdown",
   "metadata": {},
   "source": [
    " "
   ]
  },
  {
   "cell_type": "markdown",
   "metadata": {},
   "source": [
    "#### 4. Overall Yearly Engagements"
   ]
  },
  {
   "cell_type": "code",
   "execution_count": 24,
   "metadata": {},
   "outputs": [
    {
     "name": "stdout",
     "output_type": "stream",
     "text": [
      "Year\n",
      "2021    365\n",
      "2022    135\n",
      "Name: id, dtype: int64\n"
     ]
    }
   ],
   "source": [
    "# Number of reach per year\n",
    "\n",
    "views_per_yr = df.groupby('Year')['id'].count()\n",
    "print(views_per_yr)"
   ]
  },
  {
   "cell_type": "markdown",
   "metadata": {},
   "source": [
    "**Total number of views in `2021` was `365` and that of `2022` was `135`.**"
   ]
  },
  {
   "cell_type": "markdown",
   "metadata": {},
   "source": [
    " "
   ]
  },
  {
   "cell_type": "code",
   "execution_count": 25,
   "metadata": {},
   "outputs": [
    {
     "name": "stdout",
     "output_type": "stream",
     "text": [
      "Year\n",
      "2021    1862195\n",
      "2022     682711\n",
      "Name: Likes, dtype: int64\n"
     ]
    }
   ],
   "source": [
    "# Yearly impressions\n",
    "\n",
    "likes_per_yr = df.groupby('Year')['Likes'].sum()\n",
    "print(likes_per_yr)"
   ]
  },
  {
   "cell_type": "markdown",
   "metadata": {},
   "source": [
    "**Total number of likes in `2021` was `1862195` and that of `2022` was `682711`.**"
   ]
  },
  {
   "cell_type": "markdown",
   "metadata": {},
   "source": [
    " "
   ]
  },
  {
   "cell_type": "code",
   "execution_count": 26,
   "metadata": {},
   "outputs": [
    {
     "name": "stdout",
     "output_type": "stream",
     "text": [
      "Month\n",
      "March        324994\n",
      "January      306229\n",
      "February     292398\n",
      "April        287601\n",
      "May          222884\n",
      "October      180608\n",
      "July         170832\n",
      "August       167778\n",
      "December     159310\n",
      "November     147070\n",
      "June         143352\n",
      "September    141850\n",
      "Name: Likes, dtype: int64\n"
     ]
    }
   ],
   "source": [
    "# Monthly impressions\n",
    "\n",
    "likes_per_mnth = df.groupby('Month')['Likes'].sum().sort_values(ascending=False)\n",
    "print(likes_per_mnth)"
   ]
  },
  {
   "cell_type": "markdown",
   "metadata": {},
   "source": [
    "**The month with the highest number of engagements is `March` and the month with the least number of engagements is `September`.**"
   ]
  },
  {
   "cell_type": "markdown",
   "metadata": {},
   "source": [
    " "
   ]
  },
  {
   "cell_type": "markdown",
   "metadata": {},
   "source": [
    "#### 5. Total Engagements"
   ]
  },
  {
   "cell_type": "code",
   "execution_count": 27,
   "metadata": {},
   "outputs": [
    {
     "name": "stdout",
     "output_type": "stream",
     "text": [
      "500\n"
     ]
    }
   ],
   "source": [
    "total_views = df['id'].count()\n",
    "print(total_views)"
   ]
  },
  {
   "cell_type": "markdown",
   "metadata": {},
   "source": [
    " "
   ]
  },
  {
   "cell_type": "markdown",
   "metadata": {},
   "source": [
    "#### 6. Category of post with Highest Engagement"
   ]
  },
  {
   "cell_type": "code",
   "execution_count": 28,
   "metadata": {},
   "outputs": [
    {
     "name": "stdout",
     "output_type": "stream",
     "text": [
      "Year  Category\n",
      "2021  Culture     56\n",
      "      Family      50\n",
      "      Music       48\n",
      "      Fitness     46\n",
      "      Health      43\n",
      "      Fashion     43\n",
      "      Travel      42\n",
      "      Food        37\n",
      "2022  Health      24\n",
      "      Fashion     23\n",
      "      Culture     22\n",
      "      Family      21\n",
      "      Travel      14\n",
      "      Music       11\n",
      "      Fitness     11\n",
      "      Food         9\n",
      "Name: id, dtype: int64\n"
     ]
    }
   ],
   "source": [
    "# Total views of each category in a year\n",
    "\n",
    "cat_count_yr = df.groupby(['Year','Category'])['id'].count().sort_values(ascending=False)\n",
    "print(cat_count_yr)"
   ]
  },
  {
   "cell_type": "markdown",
   "metadata": {},
   "source": [
    "**`Culture` had the most views both in `2021` and `Health` had the most views in `2022`.**"
   ]
  },
  {
   "cell_type": "markdown",
   "metadata": {},
   "source": [
    " "
   ]
  },
  {
   "cell_type": "code",
   "execution_count": 39,
   "metadata": {
    "scrolled": true
   },
   "outputs": [
    {
     "name": "stdout",
     "output_type": "stream",
     "text": [
      "Year  Month    \n",
      "2021  October      180608\n",
      "      July         170832\n",
      "      August       167778\n",
      "      March        165641\n",
      "2022  March        159353\n",
      "2021  December     159310\n",
      "2022  January      156314\n",
      "2021  May          155091\n",
      "2022  April        154306\n",
      "2021  January      149915\n",
      "      February     147453\n",
      "      November     147070\n",
      "2022  February     144945\n",
      "2021  June         143352\n",
      "      September    141850\n",
      "      April        133295\n",
      "2022  May           67793\n",
      "Name: Likes, dtype: int64\n"
     ]
    }
   ],
   "source": [
    "# Total likes of each month in a year\n",
    "\n",
    "monthly_likes_yr = df.groupby(['Year','Month'])['Likes'].sum().sort_values(ascending=False)\n",
    "print(monthly_likes_yr)"
   ]
  },
  {
   "cell_type": "markdown",
   "metadata": {},
   "source": [
    " "
   ]
  },
  {
   "cell_type": "code",
   "execution_count": 29,
   "metadata": {},
   "outputs": [
    {
     "name": "stdout",
     "output_type": "stream",
     "text": [
      "Year  Category\n",
      "2021  Culture     290534\n",
      "      Family      272242\n",
      "      Fitness     248071\n",
      "      Music       226035\n",
      "      Health      216155\n",
      "      Travel      215599\n",
      "      Food        200261\n",
      "      Fashion     193298\n",
      "2022  Family      137782\n",
      "      Culture     115952\n",
      "      Fashion     112842\n",
      "      Health      106793\n",
      "      Music        64611\n",
      "      Travel       58706\n",
      "      Food         52597\n",
      "      Fitness      33428\n",
      "Name: Likes, dtype: int64\n"
     ]
    }
   ],
   "source": [
    "# Total likes of each category in a year\n",
    "\n",
    "cat_likes_yr = df.groupby(['Year','Category'])['Likes'].sum().sort_values(ascending=False)\n",
    "print(cat_likes_yr)"
   ]
  },
  {
   "cell_type": "markdown",
   "metadata": {},
   "source": [
    "**`Culture` had the most likes in `2021` and `Family` had the most likes in `2022`.**"
   ]
  },
  {
   "cell_type": "markdown",
   "metadata": {},
   "source": [
    " "
   ]
  },
  {
   "cell_type": "markdown",
   "metadata": {},
   "source": [
    " "
   ]
  },
  {
   "cell_type": "markdown",
   "metadata": {},
   "source": [
    " "
   ]
  },
  {
   "cell_type": "markdown",
   "metadata": {},
   "source": [
    "### Data Visualisation"
   ]
  },
  {
   "cell_type": "markdown",
   "metadata": {},
   "source": [
    "#### 1. Overall Number of Reach by Category"
   ]
  },
  {
   "cell_type": "code",
   "execution_count": 30,
   "metadata": {},
   "outputs": [
    {
     "data": {
      "image/png": "[encoded data removed]",
      "text/plain": [
       "<Figure size 720x432 with 1 Axes>"
      ]
     },
     "metadata": {
      "needs_background": "light"
     },
     "output_type": "display_data"
    }
   ],
   "source": [
    "# Plotting using Seaborn\n",
    "plt.figure(figsize=(10, 6))\n",
    "sns.barplot(x=cat_count.index, y=cat_count.values)\n",
    "\n",
    "# Adding labels and title\n",
    "plt.xlabel('Category')\n",
    "plt.ylabel('Number of Occurrences')\n",
    "plt.title('Number of Occurrences by Category')\n",
    "\n",
    "# Adding data values on top of the bars\n",
    "for i, value in enumerate(cat_count.values):\n",
    "    plt.text(i, value + 0.1, str(value), ha='center', va='bottom', fontweight='bold')\n",
    "\n",
    "# Display the plot\n",
    "plt.show()\n"
   ]
  },
  {
   "cell_type": "markdown",
   "metadata": {},
   "source": [
    " "
   ]
  },
  {
   "cell_type": "markdown",
   "metadata": {},
   "source": [
    "#### 2. Overall Number of Impressions by Category"
   ]
  },
  {
   "cell_type": "code",
   "execution_count": 31,
   "metadata": {},
   "outputs": [
    {
     "data": {
      "image/png": "[encoded data removed]",
      "text/plain": [
       "<Figure size 720x432 with 1 Axes>"
      ]
     },
     "metadata": {
      "needs_background": "light"
     },
     "output_type": "display_data"
    }
   ],
   "source": [
    "# Plotting using Seaborn\n",
    "plt.figure(figsize=(10, 6))\n",
    "sns.barplot(x=cat_likes.index, y=cat_likes.values)\n",
    "\n",
    "# Adding labels and title\n",
    "plt.xlabel('Category')\n",
    "plt.ylabel('Number of Likes')\n",
    "plt.title('Number of Likes by Category')\n",
    "\n",
    "# Adding data values on top of the bars\n",
    "for i, value in enumerate(cat_likes.values):\n",
    "    plt.text(i, value + 0.1, str(value), ha='center', va='bottom', fontweight='bold')\n",
    "\n",
    "# Display the plot\n",
    "plt.show()\n"
   ]
  },
  {
   "cell_type": "markdown",
   "metadata": {},
   "source": [
    " "
   ]
  },
  {
   "cell_type": "markdown",
   "metadata": {},
   "source": [
    "#### 3. Overall Yearly Engagements"
   ]
  },
  {
   "cell_type": "markdown",
   "metadata": {},
   "source": [
    "##### 3a. Total Views by Year"
   ]
  },
  {
   "cell_type": "code",
   "execution_count": 32,
   "metadata": {},
   "outputs": [
    {
     "data": {
      "image/png": "[encoded data removed]",
      "text/plain": [
       "<Figure size 432x288 with 1 Axes>"
      ]
     },
     "metadata": {},
     "output_type": "display_data"
    }
   ],
   "source": [
    "# Grouping by 'year' and counting the engagements\n",
    "grouped_data = df.groupby('Year')['Category'].count().reset_index()\n",
    "\n",
    "# Creating a pie chart\n",
    "fig, ax = plt.subplots()\n",
    "ax.pie(grouped_data['Category'], labels=grouped_data['Year'], autopct='%1.1f%%', startangle=70, counterclock=False, wedgeprops=dict(width=0.5))\n",
    "\n",
    "# Adding value labels\n",
    "for i, value in enumerate(grouped_data['Category']):\n",
    "    plt.text(-2.5 * (i-0.5), 0.5, f'{value}', ha='center', va='top', fontweight='bold')\n",
    "\n",
    "# Adding title\n",
    "plt.title('Total Views per Year')\n",
    "\n",
    "# Display the plot\n",
    "plt.show()\n"
   ]
  },
  {
   "cell_type": "markdown",
   "metadata": {},
   "source": [
    "##### 3b. Total Likes by Year"
   ]
  },
  {
   "cell_type": "code",
   "execution_count": 33,
   "metadata": {},
   "outputs": [
    {
     "data": {
      "image/png": "[encoded data removed]",
      "text/plain": [
       "<Figure size 432x288 with 1 Axes>"
      ]
     },
     "metadata": {},
     "output_type": "display_data"
    }
   ],
   "source": [
    "# Grouping by 'year' and summing the engagements\n",
    "grouped_data = df.groupby('Year')['Likes'].sum().reset_index()\n",
    "\n",
    "# Creating a pie chart\n",
    "fig, ax = plt.subplots()\n",
    "ax.pie(grouped_data['Likes'], labels=grouped_data['Year'], autopct='%1.1f%%', startangle=70, counterclock=False, wedgeprops=dict(width=0.5))\n",
    "\n",
    "# Adding value labels\n",
    "for i, value in enumerate(grouped_data['Likes']):\n",
    "    plt.text(-2.5 * (i-0.5), 0.5, f'{value}', ha='center', va='top', fontweight='bold')\n",
    "\n",
    "# Adding title\n",
    "plt.title('Total Likes per Year')\n",
    "\n",
    "# Display the plot\n",
    "plt.show()\n"
   ]
  },
  {
   "cell_type": "markdown",
   "metadata": {},
   "source": [
    "##### 3c. Total Views of Categories per Year"
   ]
  },
  {
   "cell_type": "code",
   "execution_count": 34,
   "metadata": {},
   "outputs": [
    {
     "data": {
      "image/png": "[encoded data removed]",
      "text/plain": [
       "<Figure size 432x288 with 1 Axes>"
      ]
     },
     "metadata": {
      "needs_background": "light"
     },
     "output_type": "display_data"
    }
   ],
   "source": [
    "# Grouping by 'category' and 'month' and getting the count\n",
    "grouped_data = df.groupby(['Category', 'Year']).size().reset_index(name='count')\n",
    "\n",
    "# Pivot the DataFrame to have 'month' as columns\n",
    "pivot_data = grouped_data.pivot(index='Category', columns='Year', values='count').fillna(0)\n",
    "\n",
    "# Plotting using Matplotlib\n",
    "pivot_data.plot(kind='bar', stacked=True)\n",
    "\n",
    "# Adding labels and title\n",
    "plt.xlabel('Category')\n",
    "plt.ylabel('Number of Occurrences')\n",
    "plt.title('Category-wise Occurrences in Each Month')\n",
    "\n",
    "# Adding data values on top of the bars\n",
    "for i, category in enumerate(pivot_data.index):\n",
    "    for j, month in enumerate(pivot_data.columns):\n",
    "        plt.text((i+0.1), pivot_data.loc[category, month] + 5, str(int(pivot_data.loc[category, month])), ha='right', va='top', fontweight='bold')\n",
    "\n",
    "# Display the plot\n",
    "plt.show()\n"
   ]
  },
  {
   "cell_type": "markdown",
   "metadata": {},
   "source": [
    "##### 3d. Total Likes of Categories per Year"
   ]
  },
  {
   "cell_type": "code",
   "execution_count": null,
   "metadata": {},
   "outputs": [],
   "source": [
    " "
   ]
  },
  {
   "cell_type": "markdown",
   "metadata": {},
   "source": [
    " "
   ]
  },
  {
   "cell_type": "markdown",
   "metadata": {},
   "source": [
    "#### 4. Overall Monthly Engagements"
   ]
  },
  {
   "cell_type": "markdown",
   "metadata": {},
   "source": [
    "##### 4a. Total Views of categories by Month"
   ]
  },
  {
   "cell_type": "code",
   "execution_count": 35,
   "metadata": {},
   "outputs": [
    {
     "data": {
      "image/png": "[encoded data removed]",
      "text/plain": [
       "<Figure size 1080x504 with 1 Axes>"
      ]
     },
     "metadata": {
      "needs_background": "light"
     },
     "output_type": "display_data"
    }
   ],
   "source": [
    "# Grouping by 'category' and 'month' and getting the number of occurrences\n",
    "grouped_data = df.groupby(['Category', 'Month']).size().reset_index(name='count')\n",
    "\n",
    "# Plotting using Seaborn\n",
    "plt.figure(figsize=(15, 7))\n",
    "sns.barplot(x = 'Month', y = 'count', hue='Category', data=grouped_data, ci=None)\n",
    "\n",
    "# Adding labels and title\n",
    "plt.xlabel('Category')\n",
    "plt.ylabel('Number of Occurrences')\n",
    "plt.title('Category-wise Stacked Occurrences in Each Month')\n",
    "\n",
    "# Inverting the y-axis\n",
    "#plt.gca().invert_yaxis()\n",
    "\n",
    "# Display the plot\n",
    "plt.show()\n"
   ]
  },
  {
   "cell_type": "markdown",
   "metadata": {},
   "source": [
    "##### 4b. Total Likes of categories by Month"
   ]
  },
  {
   "cell_type": "code",
   "execution_count": 36,
   "metadata": {},
   "outputs": [
    {
     "data": {
      "image/png": "[encoded data removed]",
      "text/plain": [
       "<Figure size 1080x504 with 1 Axes>"
      ]
     },
     "metadata": {
      "needs_background": "light"
     },
     "output_type": "display_data"
    }
   ],
   "source": [
    "# Grouping by 'category' and 'month' and getting the number of occurrences\n",
    "grouped_data = df.groupby(['Category', 'Month'])['Likes'].sum().reset_index()\n",
    "\n",
    "# Plotting using Seaborn\n",
    "plt.figure(figsize=(15, 7))\n",
    "sns.barplot(x = 'Month', y = 'Likes', hue='Category', data=grouped_data, ci=None)\n",
    "\n",
    "# Adding labels and title\n",
    "plt.xlabel('Category')\n",
    "plt.ylabel('Number of Occurrences')\n",
    "plt.title('Category-wise Stacked Occurrences in Each Month')\n",
    "\n",
    "# Inverting the y-axis\n",
    "#plt.gca().invert_yaxis()\n",
    "\n",
    "# Display the plot\n",
    "plt.show()\n"
   ]
  },
  {
   "cell_type": "markdown",
   "metadata": {},
   "source": [
    " "
   ]
  },
  {
   "cell_type": "markdown",
   "metadata": {},
   "source": [
    " "
   ]
  },
  {
   "cell_type": "markdown",
   "metadata": {},
   "source": [
    "## Step 4: Conclusions and Recommendations"
   ]
  },
  {
   "cell_type": "markdown",
   "metadata": {},
   "source": [
    "In th next few lines, I will expound on the data analysis processes above and the respective findings.\n",
    "\n",
    "First, the data I used for this project is a randomly generated data. I then performed an exploratory data analysis that helped me to understand the various data structures and enabled me to perform the nccessary cleaning. I went ahead to perform some statistics on the data to understand the story behind the data and plotted charts and graphs to visualise the data.\n",
    "\n",
    "Below are insights generated from the data and some recommended actions:\n",
    "\n",
    "- The overall total number of views across all categories of posts is `500` of which `135` was in 2022 and `365` was in 2021.\n",
    "- In 2021, there was `1862195` total likes across all categories of posts and in 2022, there was `682711` total likes.\n",
    "- In general, `Culture` category had the most views but `Family` category had the most likes. This implies that, most viewers showed much interest in family contents. Hence more of such contents should be promoted to increase reach to a spectrum of users.\n",
    "- The top 5 most popular content categories are `Culture`, `Family`, `Health`, `Fashion` and `Music`. Stakeholders should invest more in these content categories.\n",
    "- `Culture` and `Family` categories had the hishest likes in 2021 and 2022 interchangeably so these two content categories should be the point of focus of content creators.\n",
    "- In 2021, `October` had the highest likes, in 2022, `March` had the highest likes and overall, `March` had the highest number of likes. This means that content viewers are more involved and pay attention to contents in the month `March` followed by `October`. Hence, content creators should be more active in these months.\n"
   ]
  },
  {
   "cell_type": "markdown",
   "metadata": {},
   "source": [
    "#  "
   ]
  },
  {
   "cell_type": "markdown",
   "metadata": {},
   "source": [
    " "
   ]
  },
  {
   "cell_type": "markdown",
   "metadata": {},
   "source": [
    " "
   ]
  }
 ],
 "metadata": {
  "kernelspec": {
   "display_name": "Python 3",
   "language": "python",
   "name": "python3"
  },
  "language_info": {
   "codemirror_mode": {
    "name": "ipython",
    "version": 3
   },
   "file_extension": ".py",
   "mimetype": "text/x-python",
   "name": "python",
   "nbconvert_exporter": "python",
   "pygments_lexer": "ipython3",
   "version": "3.7.6"
  }
 },
 "nbformat": 4,
 "nbformat_minor": 4
}
